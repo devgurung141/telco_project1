{
 "cells": [
  {
   "cell_type": "markdown",
   "id": "081a7bca",
   "metadata": {},
   "source": [
    "# Customer Churn at Telco\n",
    "\n",
    "## Project Description\n",
    "Telco is a telecommunication company that wants to predict customer churn. The goal of the project is to analyze the data, find driving features of customer churn, predict cusotmer churn, and recommend actions to reduce customer churn.\n",
    "\n",
    "## Goals:\n",
    "\n",
    "   - Discover driver of customer churn at Telco\n",
    "   - Use drivers to develop a model to predict customer churn\n",
    "   - Offer recommendation to  reduce customer churn\n",
    "\n",
    "## Initial Questions: \n",
    "   - Find percentage of churn\n",
    "   - Does dependents effect on customer churn?\n",
    "   - Do customers who churn have a higher average monthly charge than customers who do not churn?\n",
    "   - Is contract type driver factor of customer churn?\n",
    "   - Do customers with tech support less likely to churn than customers without tech support?\n",
    "\n",
    "\n"
   ]
  },
  {
   "cell_type": "markdown",
   "id": "019f4ddb",
   "metadata": {},
   "source": [
    "## Imports"
   ]
  },
  {
   "cell_type": "code",
   "execution_count": 1,
   "id": "b1e8053e",
   "metadata": {},
   "outputs": [],
   "source": [
    "# imports\n",
    "import pandas as pd\n",
    "import numpy as np\n",
    "\n",
    "import seaborn as sns\n",
    "import matplotlib.pyplot as plt\n",
    "\n",
    "from scipy import stats\n",
    "\n",
    "import acquire\n",
    "import prepare\n",
    "import explore as e\n",
    "import modelling as m\n",
    "\n",
    "from sklearn.tree import DecisionTreeClassifier, plot_tree\n",
    "from sklearn.metrics import classification_report, confusion_matrix\n",
    "from sklearn.ensemble import RandomForestClassifier\n",
    "from sklearn.neighbors import KNeighborsClassifier\n",
    "from sklearn.linear_model import LogisticRegression\n"
   ]
  },
  {
   "cell_type": "markdown",
   "id": "43cb937b",
   "metadata": {},
   "source": [
    "## Acquire\n",
    "\n",
    "- Acquired data from Telco_churn database from Codeup database using acquire.py file\n",
    "- It contained 7048 rows and 48 columns\n",
    "- Each row represents a customer\n",
    "- Each column represents a feaures of an individial customer.\n"
   ]
  },
  {
   "cell_type": "code",
   "execution_count": 2,
   "id": "aad93337",
   "metadata": {},
   "outputs": [],
   "source": [
    "# set options to display all columns\n",
    "pd.options.display.max_columns = None\n",
    "\n",
    "# set seed at 42\n",
    "seed =42"
   ]
  },
  {
   "cell_type": "code",
   "execution_count": 3,
   "id": "56b128df",
   "metadata": {},
   "outputs": [],
   "source": [
    "# acquire telco data using function from acquire module\n",
    "telco_original = acquire.get_telco_data()"
   ]
  },
  {
   "cell_type": "code",
   "execution_count": 4,
   "id": "453d5dea",
   "metadata": {},
   "outputs": [
    {
     "data": {
      "text/html": [
       "<div>\n",
       "<style scoped>\n",
       "    .dataframe tbody tr th:only-of-type {\n",
       "        vertical-align: middle;\n",
       "    }\n",
       "\n",
       "    .dataframe tbody tr th {\n",
       "        vertical-align: top;\n",
       "    }\n",
       "\n",
       "    .dataframe thead th {\n",
       "        text-align: right;\n",
       "    }\n",
       "</style>\n",
       "<table border=\"1\" class=\"dataframe\">\n",
       "  <thead>\n",
       "    <tr style=\"text-align: right;\">\n",
       "      <th></th>\n",
       "      <th>payment_type_id</th>\n",
       "      <th>contract_type_id</th>\n",
       "      <th>internet_service_type_id</th>\n",
       "      <th>customer_id</th>\n",
       "      <th>gender</th>\n",
       "      <th>senior_citizen</th>\n",
       "      <th>partner</th>\n",
       "      <th>dependents</th>\n",
       "      <th>tenure</th>\n",
       "      <th>phone_service</th>\n",
       "      <th>multiple_lines</th>\n",
       "      <th>online_security</th>\n",
       "      <th>online_backup</th>\n",
       "      <th>device_protection</th>\n",
       "      <th>tech_support</th>\n",
       "      <th>streaming_tv</th>\n",
       "      <th>streaming_movies</th>\n",
       "      <th>paperless_billing</th>\n",
       "      <th>monthly_charges</th>\n",
       "      <th>total_charges</th>\n",
       "      <th>churn</th>\n",
       "      <th>internet_service_type</th>\n",
       "      <th>contract_type</th>\n",
       "      <th>payment_type</th>\n",
       "    </tr>\n",
       "  </thead>\n",
       "  <tbody>\n",
       "    <tr>\n",
       "      <th>0</th>\n",
       "      <td>2</td>\n",
       "      <td>2</td>\n",
       "      <td>1</td>\n",
       "      <td>0002-ORFBO</td>\n",
       "      <td>Female</td>\n",
       "      <td>0</td>\n",
       "      <td>Yes</td>\n",
       "      <td>Yes</td>\n",
       "      <td>9</td>\n",
       "      <td>Yes</td>\n",
       "      <td>No</td>\n",
       "      <td>No</td>\n",
       "      <td>Yes</td>\n",
       "      <td>No</td>\n",
       "      <td>Yes</td>\n",
       "      <td>Yes</td>\n",
       "      <td>No</td>\n",
       "      <td>Yes</td>\n",
       "      <td>65.6</td>\n",
       "      <td>593.3</td>\n",
       "      <td>No</td>\n",
       "      <td>DSL</td>\n",
       "      <td>One year</td>\n",
       "      <td>Mailed check</td>\n",
       "    </tr>\n",
       "    <tr>\n",
       "      <th>1</th>\n",
       "      <td>2</td>\n",
       "      <td>1</td>\n",
       "      <td>1</td>\n",
       "      <td>0003-MKNFE</td>\n",
       "      <td>Male</td>\n",
       "      <td>0</td>\n",
       "      <td>No</td>\n",
       "      <td>No</td>\n",
       "      <td>9</td>\n",
       "      <td>Yes</td>\n",
       "      <td>Yes</td>\n",
       "      <td>No</td>\n",
       "      <td>No</td>\n",
       "      <td>No</td>\n",
       "      <td>No</td>\n",
       "      <td>No</td>\n",
       "      <td>Yes</td>\n",
       "      <td>No</td>\n",
       "      <td>59.9</td>\n",
       "      <td>542.4</td>\n",
       "      <td>No</td>\n",
       "      <td>DSL</td>\n",
       "      <td>Month-to-month</td>\n",
       "      <td>Mailed check</td>\n",
       "    </tr>\n",
       "    <tr>\n",
       "      <th>2</th>\n",
       "      <td>1</td>\n",
       "      <td>1</td>\n",
       "      <td>2</td>\n",
       "      <td>0004-TLHLJ</td>\n",
       "      <td>Male</td>\n",
       "      <td>0</td>\n",
       "      <td>No</td>\n",
       "      <td>No</td>\n",
       "      <td>4</td>\n",
       "      <td>Yes</td>\n",
       "      <td>No</td>\n",
       "      <td>No</td>\n",
       "      <td>No</td>\n",
       "      <td>Yes</td>\n",
       "      <td>No</td>\n",
       "      <td>No</td>\n",
       "      <td>No</td>\n",
       "      <td>Yes</td>\n",
       "      <td>73.9</td>\n",
       "      <td>280.85</td>\n",
       "      <td>Yes</td>\n",
       "      <td>Fiber optic</td>\n",
       "      <td>Month-to-month</td>\n",
       "      <td>Electronic check</td>\n",
       "    </tr>\n",
       "  </tbody>\n",
       "</table>\n",
       "</div>"
      ],
      "text/plain": [
       "   payment_type_id  contract_type_id  internet_service_type_id customer_id  \\\n",
       "0                2                 2                         1  0002-ORFBO   \n",
       "1                2                 1                         1  0003-MKNFE   \n",
       "2                1                 1                         2  0004-TLHLJ   \n",
       "\n",
       "   gender  senior_citizen partner dependents  tenure phone_service  \\\n",
       "0  Female               0     Yes        Yes       9           Yes   \n",
       "1    Male               0      No         No       9           Yes   \n",
       "2    Male               0      No         No       4           Yes   \n",
       "\n",
       "  multiple_lines online_security online_backup device_protection tech_support  \\\n",
       "0             No              No           Yes                No          Yes   \n",
       "1            Yes              No            No                No           No   \n",
       "2             No              No            No               Yes           No   \n",
       "\n",
       "  streaming_tv streaming_movies paperless_billing  monthly_charges  \\\n",
       "0          Yes               No               Yes             65.6   \n",
       "1           No              Yes                No             59.9   \n",
       "2           No               No               Yes             73.9   \n",
       "\n",
       "  total_charges churn internet_service_type   contract_type      payment_type  \n",
       "0         593.3    No                   DSL        One year      Mailed check  \n",
       "1         542.4    No                   DSL  Month-to-month      Mailed check  \n",
       "2        280.85   Yes           Fiber optic  Month-to-month  Electronic check  "
      ]
     },
     "execution_count": 4,
     "metadata": {},
     "output_type": "execute_result"
    }
   ],
   "source": [
    "# look at the data\n",
    "telco_original.head(3)"
   ]
  },
  {
   "cell_type": "markdown",
   "id": "daff82b0",
   "metadata": {},
   "source": [
    "## Prepare\n",
    "\n",
    "#### Prepare Actions:\n",
    "- Removed unwanted columns\n",
    "- Checked for Nulls, no Null, but found white space in column: total_charges.\n",
    "- Replaced white space with 0 (zero).\n",
    "- Converted total_charges dtypes from object to float\n",
    "- Created a list of categorical variables\n",
    "- Encoded categorical varibales\n",
    "- Converted column names into lower case\n",
    "- split data into train, validate and test (approx. 56/24/20)"
   ]
  },
  {
   "cell_type": "code",
   "execution_count": 5,
   "id": "2d754a34",
   "metadata": {},
   "outputs": [],
   "source": [
    "# acquire clean data using function from prepare module\n",
    "telco= prepare.prep_telco(telco_original)"
   ]
  },
  {
   "cell_type": "code",
   "execution_count": 6,
   "id": "1297b456",
   "metadata": {
    "scrolled": true
   },
   "outputs": [
    {
     "data": {
      "text/html": [
       "<div>\n",
       "<style scoped>\n",
       "    .dataframe tbody tr th:only-of-type {\n",
       "        vertical-align: middle;\n",
       "    }\n",
       "\n",
       "    .dataframe tbody tr th {\n",
       "        vertical-align: top;\n",
       "    }\n",
       "\n",
       "    .dataframe thead th {\n",
       "        text-align: right;\n",
       "    }\n",
       "</style>\n",
       "<table border=\"1\" class=\"dataframe\">\n",
       "  <thead>\n",
       "    <tr style=\"text-align: right;\">\n",
       "      <th></th>\n",
       "      <th>customer_id</th>\n",
       "      <th>gender</th>\n",
       "      <th>senior_citizen</th>\n",
       "      <th>partner</th>\n",
       "      <th>dependents</th>\n",
       "      <th>tenure</th>\n",
       "      <th>phone_service</th>\n",
       "      <th>multiple_lines</th>\n",
       "      <th>online_security</th>\n",
       "      <th>online_backup</th>\n",
       "      <th>device_protection</th>\n",
       "      <th>tech_support</th>\n",
       "      <th>streaming_tv</th>\n",
       "      <th>streaming_movies</th>\n",
       "      <th>paperless_billing</th>\n",
       "      <th>monthly_charges</th>\n",
       "      <th>total_charges</th>\n",
       "      <th>churn</th>\n",
       "      <th>internet_service_type</th>\n",
       "      <th>contract_type</th>\n",
       "      <th>payment_type</th>\n",
       "      <th>gender_male</th>\n",
       "      <th>partner_yes</th>\n",
       "      <th>dependents_yes</th>\n",
       "      <th>phone_service_yes</th>\n",
       "      <th>paperless_billing_yes</th>\n",
       "      <th>churn_yes</th>\n",
       "      <th>multiple_lines_no</th>\n",
       "      <th>multiple_lines_no phone service</th>\n",
       "      <th>multiple_lines_yes</th>\n",
       "      <th>online_security_no</th>\n",
       "      <th>online_security_no internet service</th>\n",
       "      <th>online_security_yes</th>\n",
       "      <th>online_backup_no</th>\n",
       "      <th>online_backup_no internet service</th>\n",
       "      <th>online_backup_yes</th>\n",
       "      <th>device_protection_no</th>\n",
       "      <th>device_protection_no internet service</th>\n",
       "      <th>device_protection_yes</th>\n",
       "      <th>tech_support_no</th>\n",
       "      <th>tech_support_no internet service</th>\n",
       "      <th>tech_support_yes</th>\n",
       "      <th>streaming_tv_no</th>\n",
       "      <th>streaming_tv_no internet service</th>\n",
       "      <th>streaming_tv_yes</th>\n",
       "      <th>streaming_movies_no</th>\n",
       "      <th>streaming_movies_no internet service</th>\n",
       "      <th>streaming_movies_yes</th>\n",
       "      <th>internet_service_type_dsl</th>\n",
       "      <th>internet_service_type_fiber optic</th>\n",
       "      <th>internet_service_type_none</th>\n",
       "      <th>contract_type_month-to-month</th>\n",
       "      <th>contract_type_one year</th>\n",
       "      <th>contract_type_two year</th>\n",
       "      <th>payment_type_bank transfer (automatic)</th>\n",
       "      <th>payment_type_credit card (automatic)</th>\n",
       "      <th>payment_type_electronic check</th>\n",
       "      <th>payment_type_mailed check</th>\n",
       "    </tr>\n",
       "  </thead>\n",
       "  <tbody>\n",
       "    <tr>\n",
       "      <th>0</th>\n",
       "      <td>0002-ORFBO</td>\n",
       "      <td>Female</td>\n",
       "      <td>0</td>\n",
       "      <td>Yes</td>\n",
       "      <td>Yes</td>\n",
       "      <td>9</td>\n",
       "      <td>Yes</td>\n",
       "      <td>No</td>\n",
       "      <td>No</td>\n",
       "      <td>Yes</td>\n",
       "      <td>No</td>\n",
       "      <td>Yes</td>\n",
       "      <td>Yes</td>\n",
       "      <td>No</td>\n",
       "      <td>Yes</td>\n",
       "      <td>65.6</td>\n",
       "      <td>593.30</td>\n",
       "      <td>No</td>\n",
       "      <td>DSL</td>\n",
       "      <td>One year</td>\n",
       "      <td>Mailed check</td>\n",
       "      <td>0</td>\n",
       "      <td>1</td>\n",
       "      <td>1</td>\n",
       "      <td>1</td>\n",
       "      <td>1</td>\n",
       "      <td>0</td>\n",
       "      <td>1</td>\n",
       "      <td>0</td>\n",
       "      <td>0</td>\n",
       "      <td>1</td>\n",
       "      <td>0</td>\n",
       "      <td>0</td>\n",
       "      <td>0</td>\n",
       "      <td>0</td>\n",
       "      <td>1</td>\n",
       "      <td>1</td>\n",
       "      <td>0</td>\n",
       "      <td>0</td>\n",
       "      <td>0</td>\n",
       "      <td>0</td>\n",
       "      <td>1</td>\n",
       "      <td>0</td>\n",
       "      <td>0</td>\n",
       "      <td>1</td>\n",
       "      <td>1</td>\n",
       "      <td>0</td>\n",
       "      <td>0</td>\n",
       "      <td>1</td>\n",
       "      <td>0</td>\n",
       "      <td>0</td>\n",
       "      <td>0</td>\n",
       "      <td>1</td>\n",
       "      <td>0</td>\n",
       "      <td>0</td>\n",
       "      <td>0</td>\n",
       "      <td>0</td>\n",
       "      <td>1</td>\n",
       "    </tr>\n",
       "    <tr>\n",
       "      <th>1</th>\n",
       "      <td>0003-MKNFE</td>\n",
       "      <td>Male</td>\n",
       "      <td>0</td>\n",
       "      <td>No</td>\n",
       "      <td>No</td>\n",
       "      <td>9</td>\n",
       "      <td>Yes</td>\n",
       "      <td>Yes</td>\n",
       "      <td>No</td>\n",
       "      <td>No</td>\n",
       "      <td>No</td>\n",
       "      <td>No</td>\n",
       "      <td>No</td>\n",
       "      <td>Yes</td>\n",
       "      <td>No</td>\n",
       "      <td>59.9</td>\n",
       "      <td>542.40</td>\n",
       "      <td>No</td>\n",
       "      <td>DSL</td>\n",
       "      <td>Month-to-month</td>\n",
       "      <td>Mailed check</td>\n",
       "      <td>1</td>\n",
       "      <td>0</td>\n",
       "      <td>0</td>\n",
       "      <td>1</td>\n",
       "      <td>0</td>\n",
       "      <td>0</td>\n",
       "      <td>0</td>\n",
       "      <td>0</td>\n",
       "      <td>1</td>\n",
       "      <td>1</td>\n",
       "      <td>0</td>\n",
       "      <td>0</td>\n",
       "      <td>1</td>\n",
       "      <td>0</td>\n",
       "      <td>0</td>\n",
       "      <td>1</td>\n",
       "      <td>0</td>\n",
       "      <td>0</td>\n",
       "      <td>1</td>\n",
       "      <td>0</td>\n",
       "      <td>0</td>\n",
       "      <td>1</td>\n",
       "      <td>0</td>\n",
       "      <td>0</td>\n",
       "      <td>0</td>\n",
       "      <td>0</td>\n",
       "      <td>1</td>\n",
       "      <td>1</td>\n",
       "      <td>0</td>\n",
       "      <td>0</td>\n",
       "      <td>1</td>\n",
       "      <td>0</td>\n",
       "      <td>0</td>\n",
       "      <td>0</td>\n",
       "      <td>0</td>\n",
       "      <td>0</td>\n",
       "      <td>1</td>\n",
       "    </tr>\n",
       "    <tr>\n",
       "      <th>2</th>\n",
       "      <td>0004-TLHLJ</td>\n",
       "      <td>Male</td>\n",
       "      <td>0</td>\n",
       "      <td>No</td>\n",
       "      <td>No</td>\n",
       "      <td>4</td>\n",
       "      <td>Yes</td>\n",
       "      <td>No</td>\n",
       "      <td>No</td>\n",
       "      <td>No</td>\n",
       "      <td>Yes</td>\n",
       "      <td>No</td>\n",
       "      <td>No</td>\n",
       "      <td>No</td>\n",
       "      <td>Yes</td>\n",
       "      <td>73.9</td>\n",
       "      <td>280.85</td>\n",
       "      <td>Yes</td>\n",
       "      <td>Fiber optic</td>\n",
       "      <td>Month-to-month</td>\n",
       "      <td>Electronic check</td>\n",
       "      <td>1</td>\n",
       "      <td>0</td>\n",
       "      <td>0</td>\n",
       "      <td>1</td>\n",
       "      <td>1</td>\n",
       "      <td>1</td>\n",
       "      <td>1</td>\n",
       "      <td>0</td>\n",
       "      <td>0</td>\n",
       "      <td>1</td>\n",
       "      <td>0</td>\n",
       "      <td>0</td>\n",
       "      <td>1</td>\n",
       "      <td>0</td>\n",
       "      <td>0</td>\n",
       "      <td>0</td>\n",
       "      <td>0</td>\n",
       "      <td>1</td>\n",
       "      <td>1</td>\n",
       "      <td>0</td>\n",
       "      <td>0</td>\n",
       "      <td>1</td>\n",
       "      <td>0</td>\n",
       "      <td>0</td>\n",
       "      <td>1</td>\n",
       "      <td>0</td>\n",
       "      <td>0</td>\n",
       "      <td>0</td>\n",
       "      <td>1</td>\n",
       "      <td>0</td>\n",
       "      <td>1</td>\n",
       "      <td>0</td>\n",
       "      <td>0</td>\n",
       "      <td>0</td>\n",
       "      <td>0</td>\n",
       "      <td>1</td>\n",
       "      <td>0</td>\n",
       "    </tr>\n",
       "  </tbody>\n",
       "</table>\n",
       "</div>"
      ],
      "text/plain": [
       "  customer_id  gender  senior_citizen partner dependents  tenure  \\\n",
       "0  0002-ORFBO  Female               0     Yes        Yes       9   \n",
       "1  0003-MKNFE    Male               0      No         No       9   \n",
       "2  0004-TLHLJ    Male               0      No         No       4   \n",
       "\n",
       "  phone_service multiple_lines online_security online_backup  \\\n",
       "0           Yes             No              No           Yes   \n",
       "1           Yes            Yes              No            No   \n",
       "2           Yes             No              No            No   \n",
       "\n",
       "  device_protection tech_support streaming_tv streaming_movies  \\\n",
       "0                No          Yes          Yes               No   \n",
       "1                No           No           No              Yes   \n",
       "2               Yes           No           No               No   \n",
       "\n",
       "  paperless_billing  monthly_charges  total_charges churn  \\\n",
       "0               Yes             65.6         593.30    No   \n",
       "1                No             59.9         542.40    No   \n",
       "2               Yes             73.9         280.85   Yes   \n",
       "\n",
       "  internet_service_type   contract_type      payment_type  gender_male  \\\n",
       "0                   DSL        One year      Mailed check            0   \n",
       "1                   DSL  Month-to-month      Mailed check            1   \n",
       "2           Fiber optic  Month-to-month  Electronic check            1   \n",
       "\n",
       "   partner_yes  dependents_yes  phone_service_yes  paperless_billing_yes  \\\n",
       "0            1               1                  1                      1   \n",
       "1            0               0                  1                      0   \n",
       "2            0               0                  1                      1   \n",
       "\n",
       "   churn_yes  multiple_lines_no  multiple_lines_no phone service  \\\n",
       "0          0                  1                                0   \n",
       "1          0                  0                                0   \n",
       "2          1                  1                                0   \n",
       "\n",
       "   multiple_lines_yes  online_security_no  \\\n",
       "0                   0                   1   \n",
       "1                   1                   1   \n",
       "2                   0                   1   \n",
       "\n",
       "   online_security_no internet service  online_security_yes  online_backup_no  \\\n",
       "0                                    0                    0                 0   \n",
       "1                                    0                    0                 1   \n",
       "2                                    0                    0                 1   \n",
       "\n",
       "   online_backup_no internet service  online_backup_yes  device_protection_no  \\\n",
       "0                                  0                  1                     1   \n",
       "1                                  0                  0                     1   \n",
       "2                                  0                  0                     0   \n",
       "\n",
       "   device_protection_no internet service  device_protection_yes  \\\n",
       "0                                      0                      0   \n",
       "1                                      0                      0   \n",
       "2                                      0                      1   \n",
       "\n",
       "   tech_support_no  tech_support_no internet service  tech_support_yes  \\\n",
       "0                0                                 0                 1   \n",
       "1                1                                 0                 0   \n",
       "2                1                                 0                 0   \n",
       "\n",
       "   streaming_tv_no  streaming_tv_no internet service  streaming_tv_yes  \\\n",
       "0                0                                 0                 1   \n",
       "1                1                                 0                 0   \n",
       "2                1                                 0                 0   \n",
       "\n",
       "   streaming_movies_no  streaming_movies_no internet service  \\\n",
       "0                    1                                     0   \n",
       "1                    0                                     0   \n",
       "2                    1                                     0   \n",
       "\n",
       "   streaming_movies_yes  internet_service_type_dsl  \\\n",
       "0                     0                          1   \n",
       "1                     1                          1   \n",
       "2                     0                          0   \n",
       "\n",
       "   internet_service_type_fiber optic  internet_service_type_none  \\\n",
       "0                                  0                           0   \n",
       "1                                  0                           0   \n",
       "2                                  1                           0   \n",
       "\n",
       "   contract_type_month-to-month  contract_type_one year  \\\n",
       "0                             0                       1   \n",
       "1                             1                       0   \n",
       "2                             1                       0   \n",
       "\n",
       "   contract_type_two year  payment_type_bank transfer (automatic)  \\\n",
       "0                       0                                       0   \n",
       "1                       0                                       0   \n",
       "2                       0                                       0   \n",
       "\n",
       "   payment_type_credit card (automatic)  payment_type_electronic check  \\\n",
       "0                                     0                              0   \n",
       "1                                     0                              0   \n",
       "2                                     0                              1   \n",
       "\n",
       "   payment_type_mailed check  \n",
       "0                          1  \n",
       "1                          1  \n",
       "2                          0  "
      ]
     },
     "execution_count": 6,
     "metadata": {},
     "output_type": "execute_result"
    }
   ],
   "source": [
    "# take a look at the data\n",
    "telco.head(3)"
   ]
  },
  {
   "cell_type": "code",
   "execution_count": 7,
   "id": "c006ca44",
   "metadata": {},
   "outputs": [],
   "source": [
    "#  split data using function from prepare module\n",
    "train, validate, test = prepare.train_validate_test_split(telco, 'churn')"
   ]
  },
  {
   "cell_type": "code",
   "execution_count": 8,
   "id": "dabf1421",
   "metadata": {},
   "outputs": [
    {
     "data": {
      "text/plain": [
       "((3943, 58), (1691, 58), (1409, 58))"
      ]
     },
     "execution_count": 8,
     "metadata": {},
     "output_type": "execute_result"
    }
   ],
   "source": [
    "# take a look at the shape of data\n",
    "train.shape, validate.shape, test.shape"
   ]
  },
  {
   "cell_type": "code",
   "execution_count": 9,
   "id": "a583ca50",
   "metadata": {},
   "outputs": [
    {
     "data": {
      "text/html": [
       "<div>\n",
       "<style scoped>\n",
       "    .dataframe tbody tr th:only-of-type {\n",
       "        vertical-align: middle;\n",
       "    }\n",
       "\n",
       "    .dataframe tbody tr th {\n",
       "        vertical-align: top;\n",
       "    }\n",
       "\n",
       "    .dataframe thead th {\n",
       "        text-align: right;\n",
       "    }\n",
       "</style>\n",
       "<table border=\"1\" class=\"dataframe\">\n",
       "  <thead>\n",
       "    <tr style=\"text-align: right;\">\n",
       "      <th></th>\n",
       "      <th>customer_id</th>\n",
       "      <th>gender</th>\n",
       "      <th>senior_citizen</th>\n",
       "      <th>partner</th>\n",
       "      <th>dependents</th>\n",
       "      <th>tenure</th>\n",
       "      <th>phone_service</th>\n",
       "      <th>multiple_lines</th>\n",
       "      <th>online_security</th>\n",
       "      <th>online_backup</th>\n",
       "      <th>device_protection</th>\n",
       "      <th>tech_support</th>\n",
       "      <th>streaming_tv</th>\n",
       "      <th>streaming_movies</th>\n",
       "      <th>paperless_billing</th>\n",
       "      <th>monthly_charges</th>\n",
       "      <th>total_charges</th>\n",
       "      <th>churn</th>\n",
       "      <th>internet_service_type</th>\n",
       "      <th>contract_type</th>\n",
       "      <th>payment_type</th>\n",
       "      <th>gender_male</th>\n",
       "      <th>partner_yes</th>\n",
       "      <th>dependents_yes</th>\n",
       "      <th>phone_service_yes</th>\n",
       "      <th>paperless_billing_yes</th>\n",
       "      <th>churn_yes</th>\n",
       "      <th>multiple_lines_no</th>\n",
       "      <th>multiple_lines_no phone service</th>\n",
       "      <th>multiple_lines_yes</th>\n",
       "      <th>online_security_no</th>\n",
       "      <th>online_security_no internet service</th>\n",
       "      <th>online_security_yes</th>\n",
       "      <th>online_backup_no</th>\n",
       "      <th>online_backup_no internet service</th>\n",
       "      <th>online_backup_yes</th>\n",
       "      <th>device_protection_no</th>\n",
       "      <th>device_protection_no internet service</th>\n",
       "      <th>device_protection_yes</th>\n",
       "      <th>tech_support_no</th>\n",
       "      <th>tech_support_no internet service</th>\n",
       "      <th>tech_support_yes</th>\n",
       "      <th>streaming_tv_no</th>\n",
       "      <th>streaming_tv_no internet service</th>\n",
       "      <th>streaming_tv_yes</th>\n",
       "      <th>streaming_movies_no</th>\n",
       "      <th>streaming_movies_no internet service</th>\n",
       "      <th>streaming_movies_yes</th>\n",
       "      <th>internet_service_type_dsl</th>\n",
       "      <th>internet_service_type_fiber optic</th>\n",
       "      <th>internet_service_type_none</th>\n",
       "      <th>contract_type_month-to-month</th>\n",
       "      <th>contract_type_one year</th>\n",
       "      <th>contract_type_two year</th>\n",
       "      <th>payment_type_bank transfer (automatic)</th>\n",
       "      <th>payment_type_credit card (automatic)</th>\n",
       "      <th>payment_type_electronic check</th>\n",
       "      <th>payment_type_mailed check</th>\n",
       "    </tr>\n",
       "  </thead>\n",
       "  <tbody>\n",
       "    <tr>\n",
       "      <th>4604</th>\n",
       "      <td>6490-FGZAT</td>\n",
       "      <td>Male</td>\n",
       "      <td>0</td>\n",
       "      <td>No</td>\n",
       "      <td>No</td>\n",
       "      <td>6</td>\n",
       "      <td>Yes</td>\n",
       "      <td>No</td>\n",
       "      <td>No internet service</td>\n",
       "      <td>No internet service</td>\n",
       "      <td>No internet service</td>\n",
       "      <td>No internet service</td>\n",
       "      <td>No internet service</td>\n",
       "      <td>No internet service</td>\n",
       "      <td>No</td>\n",
       "      <td>20.65</td>\n",
       "      <td>109.30</td>\n",
       "      <td>No</td>\n",
       "      <td>None</td>\n",
       "      <td>Month-to-month</td>\n",
       "      <td>Mailed check</td>\n",
       "      <td>1</td>\n",
       "      <td>0</td>\n",
       "      <td>0</td>\n",
       "      <td>1</td>\n",
       "      <td>0</td>\n",
       "      <td>0</td>\n",
       "      <td>1</td>\n",
       "      <td>0</td>\n",
       "      <td>0</td>\n",
       "      <td>0</td>\n",
       "      <td>1</td>\n",
       "      <td>0</td>\n",
       "      <td>0</td>\n",
       "      <td>1</td>\n",
       "      <td>0</td>\n",
       "      <td>0</td>\n",
       "      <td>1</td>\n",
       "      <td>0</td>\n",
       "      <td>0</td>\n",
       "      <td>1</td>\n",
       "      <td>0</td>\n",
       "      <td>0</td>\n",
       "      <td>1</td>\n",
       "      <td>0</td>\n",
       "      <td>0</td>\n",
       "      <td>1</td>\n",
       "      <td>0</td>\n",
       "      <td>0</td>\n",
       "      <td>0</td>\n",
       "      <td>1</td>\n",
       "      <td>1</td>\n",
       "      <td>0</td>\n",
       "      <td>0</td>\n",
       "      <td>0</td>\n",
       "      <td>0</td>\n",
       "      <td>0</td>\n",
       "      <td>1</td>\n",
       "    </tr>\n",
       "    <tr>\n",
       "      <th>4051</th>\n",
       "      <td>5707-ORNDZ</td>\n",
       "      <td>Male</td>\n",
       "      <td>1</td>\n",
       "      <td>No</td>\n",
       "      <td>No</td>\n",
       "      <td>9</td>\n",
       "      <td>Yes</td>\n",
       "      <td>Yes</td>\n",
       "      <td>Yes</td>\n",
       "      <td>No</td>\n",
       "      <td>No</td>\n",
       "      <td>No</td>\n",
       "      <td>No</td>\n",
       "      <td>No</td>\n",
       "      <td>No</td>\n",
       "      <td>54.55</td>\n",
       "      <td>494.05</td>\n",
       "      <td>Yes</td>\n",
       "      <td>DSL</td>\n",
       "      <td>Month-to-month</td>\n",
       "      <td>Electronic check</td>\n",
       "      <td>1</td>\n",
       "      <td>0</td>\n",
       "      <td>0</td>\n",
       "      <td>1</td>\n",
       "      <td>0</td>\n",
       "      <td>1</td>\n",
       "      <td>0</td>\n",
       "      <td>0</td>\n",
       "      <td>1</td>\n",
       "      <td>0</td>\n",
       "      <td>0</td>\n",
       "      <td>1</td>\n",
       "      <td>1</td>\n",
       "      <td>0</td>\n",
       "      <td>0</td>\n",
       "      <td>1</td>\n",
       "      <td>0</td>\n",
       "      <td>0</td>\n",
       "      <td>1</td>\n",
       "      <td>0</td>\n",
       "      <td>0</td>\n",
       "      <td>1</td>\n",
       "      <td>0</td>\n",
       "      <td>0</td>\n",
       "      <td>1</td>\n",
       "      <td>0</td>\n",
       "      <td>0</td>\n",
       "      <td>1</td>\n",
       "      <td>0</td>\n",
       "      <td>0</td>\n",
       "      <td>1</td>\n",
       "      <td>0</td>\n",
       "      <td>0</td>\n",
       "      <td>0</td>\n",
       "      <td>0</td>\n",
       "      <td>1</td>\n",
       "      <td>0</td>\n",
       "    </tr>\n",
       "    <tr>\n",
       "      <th>5159</th>\n",
       "      <td>7252-NTGSS</td>\n",
       "      <td>Female</td>\n",
       "      <td>0</td>\n",
       "      <td>No</td>\n",
       "      <td>No</td>\n",
       "      <td>1</td>\n",
       "      <td>Yes</td>\n",
       "      <td>No</td>\n",
       "      <td>No</td>\n",
       "      <td>No</td>\n",
       "      <td>No</td>\n",
       "      <td>No</td>\n",
       "      <td>No</td>\n",
       "      <td>No</td>\n",
       "      <td>No</td>\n",
       "      <td>45.15</td>\n",
       "      <td>45.15</td>\n",
       "      <td>No</td>\n",
       "      <td>DSL</td>\n",
       "      <td>Month-to-month</td>\n",
       "      <td>Mailed check</td>\n",
       "      <td>0</td>\n",
       "      <td>0</td>\n",
       "      <td>0</td>\n",
       "      <td>1</td>\n",
       "      <td>0</td>\n",
       "      <td>0</td>\n",
       "      <td>1</td>\n",
       "      <td>0</td>\n",
       "      <td>0</td>\n",
       "      <td>1</td>\n",
       "      <td>0</td>\n",
       "      <td>0</td>\n",
       "      <td>1</td>\n",
       "      <td>0</td>\n",
       "      <td>0</td>\n",
       "      <td>1</td>\n",
       "      <td>0</td>\n",
       "      <td>0</td>\n",
       "      <td>1</td>\n",
       "      <td>0</td>\n",
       "      <td>0</td>\n",
       "      <td>1</td>\n",
       "      <td>0</td>\n",
       "      <td>0</td>\n",
       "      <td>1</td>\n",
       "      <td>0</td>\n",
       "      <td>0</td>\n",
       "      <td>1</td>\n",
       "      <td>0</td>\n",
       "      <td>0</td>\n",
       "      <td>1</td>\n",
       "      <td>0</td>\n",
       "      <td>0</td>\n",
       "      <td>0</td>\n",
       "      <td>0</td>\n",
       "      <td>0</td>\n",
       "      <td>1</td>\n",
       "    </tr>\n",
       "  </tbody>\n",
       "</table>\n",
       "</div>"
      ],
      "text/plain": [
       "     customer_id  gender  senior_citizen partner dependents  tenure  \\\n",
       "4604  6490-FGZAT    Male               0      No         No       6   \n",
       "4051  5707-ORNDZ    Male               1      No         No       9   \n",
       "5159  7252-NTGSS  Female               0      No         No       1   \n",
       "\n",
       "     phone_service multiple_lines      online_security        online_backup  \\\n",
       "4604           Yes             No  No internet service  No internet service   \n",
       "4051           Yes            Yes                  Yes                   No   \n",
       "5159           Yes             No                   No                   No   \n",
       "\n",
       "        device_protection         tech_support         streaming_tv  \\\n",
       "4604  No internet service  No internet service  No internet service   \n",
       "4051                   No                   No                   No   \n",
       "5159                   No                   No                   No   \n",
       "\n",
       "         streaming_movies paperless_billing  monthly_charges  total_charges  \\\n",
       "4604  No internet service                No            20.65         109.30   \n",
       "4051                   No                No            54.55         494.05   \n",
       "5159                   No                No            45.15          45.15   \n",
       "\n",
       "     churn internet_service_type   contract_type      payment_type  \\\n",
       "4604    No                  None  Month-to-month      Mailed check   \n",
       "4051   Yes                   DSL  Month-to-month  Electronic check   \n",
       "5159    No                   DSL  Month-to-month      Mailed check   \n",
       "\n",
       "      gender_male  partner_yes  dependents_yes  phone_service_yes  \\\n",
       "4604            1            0               0                  1   \n",
       "4051            1            0               0                  1   \n",
       "5159            0            0               0                  1   \n",
       "\n",
       "      paperless_billing_yes  churn_yes  multiple_lines_no  \\\n",
       "4604                      0          0                  1   \n",
       "4051                      0          1                  0   \n",
       "5159                      0          0                  1   \n",
       "\n",
       "      multiple_lines_no phone service  multiple_lines_yes  online_security_no  \\\n",
       "4604                                0                   0                   0   \n",
       "4051                                0                   1                   0   \n",
       "5159                                0                   0                   1   \n",
       "\n",
       "      online_security_no internet service  online_security_yes  \\\n",
       "4604                                    1                    0   \n",
       "4051                                    0                    1   \n",
       "5159                                    0                    0   \n",
       "\n",
       "      online_backup_no  online_backup_no internet service  online_backup_yes  \\\n",
       "4604                 0                                  1                  0   \n",
       "4051                 1                                  0                  0   \n",
       "5159                 1                                  0                  0   \n",
       "\n",
       "      device_protection_no  device_protection_no internet service  \\\n",
       "4604                     0                                      1   \n",
       "4051                     1                                      0   \n",
       "5159                     1                                      0   \n",
       "\n",
       "      device_protection_yes  tech_support_no  \\\n",
       "4604                      0                0   \n",
       "4051                      0                1   \n",
       "5159                      0                1   \n",
       "\n",
       "      tech_support_no internet service  tech_support_yes  streaming_tv_no  \\\n",
       "4604                                 1                 0                0   \n",
       "4051                                 0                 0                1   \n",
       "5159                                 0                 0                1   \n",
       "\n",
       "      streaming_tv_no internet service  streaming_tv_yes  streaming_movies_no  \\\n",
       "4604                                 1                 0                    0   \n",
       "4051                                 0                 0                    1   \n",
       "5159                                 0                 0                    1   \n",
       "\n",
       "      streaming_movies_no internet service  streaming_movies_yes  \\\n",
       "4604                                     1                     0   \n",
       "4051                                     0                     0   \n",
       "5159                                     0                     0   \n",
       "\n",
       "      internet_service_type_dsl  internet_service_type_fiber optic  \\\n",
       "4604                          0                                  0   \n",
       "4051                          1                                  0   \n",
       "5159                          1                                  0   \n",
       "\n",
       "      internet_service_type_none  contract_type_month-to-month  \\\n",
       "4604                           1                             1   \n",
       "4051                           0                             1   \n",
       "5159                           0                             1   \n",
       "\n",
       "      contract_type_one year  contract_type_two year  \\\n",
       "4604                       0                       0   \n",
       "4051                       0                       0   \n",
       "5159                       0                       0   \n",
       "\n",
       "      payment_type_bank transfer (automatic)  \\\n",
       "4604                                       0   \n",
       "4051                                       0   \n",
       "5159                                       0   \n",
       "\n",
       "      payment_type_credit card (automatic)  payment_type_electronic check  \\\n",
       "4604                                     0                              0   \n",
       "4051                                     0                              1   \n",
       "5159                                     0                              0   \n",
       "\n",
       "      payment_type_mailed check  \n",
       "4604                          1  \n",
       "4051                          0  \n",
       "5159                          1  "
      ]
     },
     "execution_count": 9,
     "metadata": {},
     "output_type": "execute_result"
    }
   ],
   "source": [
    "# take a look at the data of train \n",
    "train.head(3)"
   ]
  },
  {
   "cell_type": "markdown",
   "id": "5e912a00",
   "metadata": {},
   "source": [
    "## Explore"
   ]
  },
  {
   "cell_type": "markdown",
   "id": "f1e63d0b",
   "metadata": {},
   "source": [
    "### Find percentage of churn\n"
   ]
  },
  {
   "cell_type": "code",
   "execution_count": 10,
   "id": "4d53ace3",
   "metadata": {},
   "outputs": [
    {
     "data": {
      "image/png": "[encoded data removed]",
      "text/plain": [
       "<Figure size 640x480 with 1 Axes>"
      ]
     },
     "metadata": {},
     "output_type": "display_data"
    }
   ],
   "source": [
    "# get pie chart of churn using a function of explore module\n",
    "e.vis_pie_churn(train)"
   ]
  },
  {
   "cell_type": "markdown",
   "id": "9f7dead6",
   "metadata": {},
   "source": [
    "27% of the customers churn in train data"
   ]
  },
  {
   "cell_type": "markdown",
   "id": "5ef880b3",
   "metadata": {},
   "source": [
    "### Does dependents effect on customer churn?"
   ]
  },
  {
   "cell_type": "code",
   "execution_count": 11,
   "id": "4985d0a4",
   "metadata": {},
   "outputs": [
    {
     "data": {
      "image/png": "[encoded data removed]",
      "text/plain": [
       "<Figure size 640x480 with 1 Axes>"
      ]
     },
     "metadata": {},
     "output_type": "display_data"
    }
   ],
   "source": [
    "# visualization of dependents using a function of explore module\n",
    "e.vis_countplot('dependents', train)"
   ]
  },
  {
   "cell_type": "markdown",
   "id": "f36e499a",
   "metadata": {},
   "source": [
    "From graph, we can say that dependents is not a significant driver of customer churn. "
   ]
  },
  {
   "cell_type": "markdown",
   "id": "2689684f",
   "metadata": {},
   "source": [
    "I will perform chi-square test to see if dependents and churn are independent. I will use alpha value of 0.05"
   ]
  },
  {
   "cell_type": "code",
   "execution_count": 12,
   "id": "49643e06",
   "metadata": {},
   "outputs": [
    {
     "name": "stdout",
     "output_type": "stream",
     "text": [
      "dependents: \n",
      "\n",
      "Null Hypothesis: dependents and churn are independent\n",
      "\n",
      "Alternative Hypothesis: dependents and churn are dependent\n",
      "\n",
      "chi^2 = 100.06930009717803\n",
      "p     = 1.47156924105124e-23\n",
      "\n",
      "We reject null hypothesis\n",
      "There exists some relationship between dependents and churn.\n",
      "--------------------------------------------------------------------------------------------\n",
      "\n"
     ]
    }
   ],
   "source": [
    "# creae a list \n",
    "cat_cols= ['dependents']\n",
    "\n",
    "# run chi-square and get result using a function of explore module\n",
    "e.chi_test(cat_cols, train)"
   ]
  },
  {
   "cell_type": "markdown",
   "id": "2fcd82e1",
   "metadata": {},
   "source": [
    "Chi-square test result: p-value less than alpha and low chi^2 score bolster our conclusion from the graph that dependents is not a significant driver of customer churn."
   ]
  },
  {
   "cell_type": "markdown",
   "id": "09acf4c0",
   "metadata": {},
   "source": [
    "### Do customers who churn have a higher average monthly charge than customers who do not churn?"
   ]
  },
  {
   "cell_type": "code",
   "execution_count": 13,
   "id": "acc1177b",
   "metadata": {},
   "outputs": [
    {
     "data": {
      "image/png": "[encoded data removed]",
      "text/plain": [
       "<Figure size 572.125x500 with 1 Axes>"
      ]
     },
     "metadata": {},
     "output_type": "display_data"
    }
   ],
   "source": [
    "# visualization of monthly chages using a function of explore module\n",
    "e.vis_distplot('monthly_charges', train)"
   ]
  },
  {
   "cell_type": "markdown",
   "id": "4c4df6b2",
   "metadata": {},
   "source": [
    "From graph, we can say that customers who churn pays higher monthly charges. Customer churn increases with an increase of monthly charges."
   ]
  },
  {
   "cell_type": "markdown",
   "id": "1338b558",
   "metadata": {},
   "source": [
    "I will use Independet t-test (1 tail, a significantly larger) to see if mean of monthly_charges of customers who churn is greater than mean of monthly_charges of customers who do not churn. I will use alpha value of 0.05"
   ]
  },
  {
   "cell_type": "code",
   "execution_count": 14,
   "id": "932bf596",
   "metadata": {},
   "outputs": [
    {
     "name": "stdout",
     "output_type": "stream",
     "text": [
      "Null Hypothesis: mean of monthly_charges of customers who churned is less or equal to mean of monthly_charges of customers who haven't churned\n",
      "\n",
      "Alternative Hypothesis: mean of monthly_charges of customers who churn is greater than mean of monthly_charges of customers who haven't churned\n",
      "\n",
      "t: 12.868714695514663\n",
      "p: 1.1731781534733783e-36\n",
      "\n",
      "we reject null hypothesis\n",
      "\n",
      "mean of monthly_charges of customers who churn is greater than mean of monthly_charges of customers who haven't churned\n",
      "--------------------------------------------------------------------------------------------\n",
      "\n"
     ]
    }
   ],
   "source": [
    "# creae a list\n",
    "num_cols =['monthly_charges']\n",
    "\n",
    "# run t-test and get result using a function of explore module\n",
    "e.ind_t_test_greater(num_cols, train)"
   ]
  },
  {
   "cell_type": "markdown",
   "id": "0bd60c4b",
   "metadata": {},
   "source": [
    "From Independet t-test (1 tail, a significantly larger) results, we found that P-value/2  is less than alplha and t value is greater than 0 and we rejected the null hypotheisis.  Therefore, we can say that customers who churn have higher average monthly charges than customers who haven't churned."
   ]
  },
  {
   "cell_type": "markdown",
   "id": "42005537",
   "metadata": {},
   "source": [
    "### Is contract type driver factor of customer churn?"
   ]
  },
  {
   "cell_type": "code",
   "execution_count": 15,
   "id": "932aedd7",
   "metadata": {},
   "outputs": [
    {
     "data": {
      "image/png": "[encoded data removed]",
      "text/plain": [
       "<Figure size 640x480 with 1 Axes>"
      ]
     },
     "metadata": {},
     "output_type": "display_data"
    }
   ],
   "source": [
    "# visual of contract type using a function of explore module\n",
    "e.vis_countplot('contract_type', train)"
   ]
  },
  {
   "cell_type": "markdown",
   "id": "77a7283e",
   "metadata": {},
   "source": [
    "From graph, we can see that customers with month-to-month contract type churn highly than customers with other contracts.\n"
   ]
  },
  {
   "cell_type": "markdown",
   "id": "01f6679f",
   "metadata": {},
   "source": [
    "I will use chi-sure test to see if contract_type and churn are independent. I will use alpha value of 0.05"
   ]
  },
  {
   "cell_type": "code",
   "execution_count": 16,
   "id": "acc52101",
   "metadata": {},
   "outputs": [
    {
     "name": "stdout",
     "output_type": "stream",
     "text": [
      "contract_type: \n",
      "\n",
      "Null Hypothesis: contract_type and churn are independent\n",
      "\n",
      "Alternative Hypothesis: contract_type and churn are dependent\n",
      "\n",
      "chi^2 = 692.8954456843198\n",
      "p     = 3.4647005236339834e-151\n",
      "\n",
      "We reject null hypothesis\n",
      "There exists some relationship between contract_type and churn.\n",
      "--------------------------------------------------------------------------------------------\n",
      "\n"
     ]
    }
   ],
   "source": [
    "# creae a list\n",
    "cat_cols= ['contract_type']\n",
    "\n",
    "# run chi-square and get result using a function of explore module\n",
    "e.chi_test(cat_cols, train)"
   ]
  },
  {
   "cell_type": "markdown",
   "id": "53c1e409",
   "metadata": {},
   "source": [
    "Chi-squre test result shows that p-value is less than alpha. Therefore, contract_type and churn are dependent. Also, higher Chi^2 score tells us that contract_type and churn are highly dependent."
   ]
  },
  {
   "cell_type": "markdown",
   "id": "542d32f5",
   "metadata": {},
   "source": [
    "### Do customers with tech support less likely to churn than customers without tech support?"
   ]
  },
  {
   "cell_type": "code",
   "execution_count": 17,
   "id": "1c219c7b",
   "metadata": {},
   "outputs": [
    {
     "data": {
      "image/png": "[encoded data removed]",
      "text/plain": [
       "<Figure size 640x480 with 1 Axes>"
      ]
     },
     "metadata": {},
     "output_type": "display_data"
    }
   ],
   "source": [
    "# visualization of tech_support using a function of explore module\n",
    "e.vis_countplot('tech_support', train)"
   ]
  },
  {
   "cell_type": "markdown",
   "id": "6272eb5b",
   "metadata": {},
   "source": [
    "From graph, we can say that customers with tech support are less likely to churn than customers without tech support."
   ]
  },
  {
   "cell_type": "markdown",
   "id": "24096c9c",
   "metadata": {},
   "source": [
    "### Gender and dependents relations with churn"
   ]
  },
  {
   "cell_type": "code",
   "execution_count": 18,
   "id": "276e9c4d",
   "metadata": {},
   "outputs": [
    {
     "data": {
      "image/png": "[encoded data removed]",
      "text/plain": [
       "<Figure size 640x480 with 1 Axes>"
      ]
     },
     "metadata": {},
     "output_type": "display_data"
    },
    {
     "data": {
      "image/png": "[encoded data removed]",
      "text/plain": [
       "<Figure size 640x480 with 1 Axes>"
      ]
     },
     "metadata": {},
     "output_type": "display_data"
    },
    {
     "name": "stdout",
     "output_type": "stream",
     "text": [
      "gender: \n",
      "\n",
      "Null Hypothesis: gender and churn are independent\n",
      "\n",
      "Alternative Hypothesis: gender and churn are dependent\n",
      "\n",
      "chi^2 = 1.2032249809003344\n",
      "p     = 0.2726780599953642\n",
      "\n",
      "We fail to reject null hypothesis\n",
      "There appears to be no significant relationship between gender and churn.\n",
      "--------------------------------------------------------------------------------------------\n",
      "\n",
      "phone_service: \n",
      "\n",
      "Null Hypothesis: phone_service and churn are independent\n",
      "\n",
      "Alternative Hypothesis: phone_service and churn are dependent\n",
      "\n",
      "chi^2 = 0.4338671508044712\n",
      "p     = 0.5100974716264193\n",
      "\n",
      "We fail to reject null hypothesis\n",
      "There appears to be no significant relationship between phone_service and churn.\n",
      "--------------------------------------------------------------------------------------------\n",
      "\n"
     ]
    }
   ],
   "source": [
    "# creae a list\n",
    "cat_cols= ['gender', 'phone_service']\n",
    "\n",
    "# visualization \n",
    "e.vis_countplot_cat(cat_cols,train)\n",
    "\n",
    "# run chi-square and get result using a function of explore module\n",
    "# I will use aplha of 0.05\n",
    "e.chi_test(cat_cols, train)"
   ]
  },
  {
   "cell_type": "markdown",
   "id": "1d7cff6c",
   "metadata": {},
   "source": [
    "From graph and chi-squre test result, was can say that gender and churn do not have significant relationship.\n",
    "\n",
    "From graph chi-squre test result, was can say that phone service and churn do not have significant relationship."
   ]
  },
  {
   "cell_type": "markdown",
   "id": "ab41510f",
   "metadata": {},
   "source": [
    "### Exploration Summary:\n",
    "\n",
    "- gender and phone service were not found be to a driver of churn\n",
    "\n",
    "- senior citizen,partner, dependents, multiple lines, streaming tv, streaming movie, paperless billing have dependent relationship with churn but are not main contributors of churn.\n",
    "\n",
    "- tenure, monthly charges, total charges, no online security, no online backup, no tech support, fiber optic internet service, month-to-month contract and electronic check payment were found to be main drivers of customer churn\n",
    "\n",
    "\n",
    "I am going to use only main drivers: tenure, monthly charges, total charges, no online security, no online backup, no tech support, fiber optic internet service, month-to-month contract and electronic check payment\n",
    "on modelling.\n",
    "    "
   ]
  },
  {
   "cell_type": "markdown",
   "id": "eda2c151",
   "metadata": {},
   "source": [
    "## Modeling"
   ]
  },
  {
   "cell_type": "markdown",
   "id": "a218d11d",
   "metadata": {},
   "source": [
    "-  I will use train data and validate data on different models with variou parameters to get the model that performs the best.Then, I will use the test data on the best model to get predicitons.\n",
    "- I will use my baseline accuracy as my evaluation metric. My baseline accuracy is around 73%.\n",
    "- I will use following four models with various hyperparameterts to get the best model:\n",
    "    - Decision Tree\n",
    "    - Random Forest\n",
    "    - KNN\n",
    "    - Logistic Research\n",
    " "
   ]
  },
  {
   "cell_type": "code",
   "execution_count": 19,
   "id": "0e7309df",
   "metadata": {},
   "outputs": [],
   "source": [
    "# prep data for modeling using a function from modelling module\n",
    "X_train, X_validate, X_test, y_train, y_validate, y_test= m.prep_model(train,validate,test)"
   ]
  },
  {
   "cell_type": "markdown",
   "id": "77751d41",
   "metadata": {},
   "source": [
    "#### Baseline Prediction: "
   ]
  },
  {
   "cell_type": "code",
   "execution_count": 20,
   "id": "a588fa3f",
   "metadata": {},
   "outputs": [
    {
     "name": "stdout",
     "output_type": "stream",
     "text": [
      "Baseline accuracy: 0.7347197565305605\n"
     ]
    }
   ],
   "source": [
    "# get beseline accuracy using a function from modelling module\n",
    "m.get_baseline_accuracy(X_train, y_train)"
   ]
  },
  {
   "cell_type": "markdown",
   "id": "665eec53",
   "metadata": {},
   "source": [
    "My baseline accuracy is 73% . "
   ]
  },
  {
   "cell_type": "markdown",
   "id": "2feff6a2",
   "metadata": {},
   "source": [
    "#### Model 1: Decision Tree"
   ]
  },
  {
   "cell_type": "code",
   "execution_count": 21,
   "id": "0ec629c8",
   "metadata": {},
   "outputs": [
    {
     "name": "stdout",
     "output_type": "stream",
     "text": [
      "Decision Tree Accuracy score on train set: 0.8206949023586102\n",
      "Decsion Tee Accuracy score on validate set: 0.7835600236546422\n"
     ]
    }
   ],
   "source": [
    "# get accuracy score using a function from modelling module\n",
    "m.get_decision_tree(X_train, X_validate, y_train, y_validate)"
   ]
  },
  {
   "cell_type": "markdown",
   "id": "084aa7b2",
   "metadata": {},
   "source": [
    "#### Model2: Random forest"
   ]
  },
  {
   "cell_type": "code",
   "execution_count": 22,
   "id": "f0d62a04",
   "metadata": {
    "scrolled": true
   },
   "outputs": [
    {
     "name": "stdout",
     "output_type": "stream",
     "text": [
      "Random Forest Accuracy score on train set: 0.8394623383210753\n",
      "Random Forest score on validate set: 0.797752808988764\n"
     ]
    }
   ],
   "source": [
    "# get accuracy score using a function from modelling module\n",
    "m.get_random_forest(X_train, X_validate, y_train, y_validate)"
   ]
  },
  {
   "cell_type": "markdown",
   "id": "bb54b5f1",
   "metadata": {},
   "source": [
    "#### Model3: KNN"
   ]
  },
  {
   "cell_type": "code",
   "execution_count": 23,
   "id": "5357d029",
   "metadata": {},
   "outputs": [
    {
     "name": "stdout",
     "output_type": "stream",
     "text": [
      "KNN Accuracy score on train set: 0.8138473243723053\n",
      "KNN Accuracy score on validate set: 0.7764636309875813\n"
     ]
    }
   ],
   "source": [
    "# get accuracy score using a function from modelling module\n",
    "m.get_knn(X_train, X_validate, y_train, y_validate)"
   ]
  },
  {
   "cell_type": "markdown",
   "id": "02e2b6a6",
   "metadata": {},
   "source": [
    "#### Model4: Logistic Regression"
   ]
  },
  {
   "cell_type": "code",
   "execution_count": 24,
   "id": "3a3f97c2",
   "metadata": {},
   "outputs": [
    {
     "name": "stdout",
     "output_type": "stream",
     "text": [
      "Logistic Regression Accuracy score on train set: 0.8047172203905656\n",
      "Logistic Regression Accuracy score on validate set: 0.7906564163217031\n"
     ]
    }
   ],
   "source": [
    "# get accuracy score using a function from modelling module\n",
    "m.get_logistic_regression(X_train, X_validate, y_train, y_validate)"
   ]
  },
  {
   "cell_type": "markdown",
   "id": "aee865fb",
   "metadata": {},
   "source": [
    "### Comparing Models"
   ]
  },
  {
   "cell_type": "markdown",
   "id": "21e91536",
   "metadata": {},
   "source": [
    "- All models perform better to baseline on train and validate \n",
    "- All models perform better on train to validate.\n",
    "- Random Forest and Logistic Regression both have the highest accuracy validate to other models. Between Random Forest and Logistic Regression, Logistic Regression seems less overfit than Random Forrest. Therefore,I pick Logistic Regression as the optimal model. Logistic Regression model has train accuracy of 80% and validate accuracy of 79%"
   ]
  },
  {
   "cell_type": "markdown",
   "id": "83bd1431",
   "metadata": {},
   "source": [
    "Use Logistic Regression model on test data"
   ]
  },
  {
   "cell_type": "markdown",
   "id": "04ef0bc4",
   "metadata": {},
   "source": [
    "## Model Evaluation"
   ]
  },
  {
   "cell_type": "markdown",
   "id": "944c880e",
   "metadata": {},
   "source": [
    "I will use Logisitic Regression on test data"
   ]
  },
  {
   "cell_type": "code",
   "execution_count": 25,
   "id": "cbc98ab5",
   "metadata": {},
   "outputs": [
    {
     "name": "stdout",
     "output_type": "stream",
     "text": [
      "Logistic Regression Accuracy score on test set: 0.7906316536550745\n"
     ]
    }
   ],
   "source": [
    "# print accuracy score of test data and return dataframe with predictions using a function from modelling module\n",
    "\n",
    "result = m.get_logistic_regression_test(X_train, X_validate, y_train, y_validate, X_test, y_test,test)"
   ]
  },
  {
   "cell_type": "markdown",
   "id": "2dd51730",
   "metadata": {},
   "source": [
    "Logistic Regression accuracy on test data is about 79 % which is better than our baseline accuracy of 73% by 6%."
   ]
  },
  {
   "cell_type": "markdown",
   "id": "314f164f",
   "metadata": {},
   "source": [
    "### Modelling summary: \n",
    "- All models perform better to baseline on train and validate \n",
    "- All models perform better on train to validate.\n",
    "- Random Forest and Logistic Regression both have the highest accuracy validate to other models. Between Random Forest and Logistic Regression, Logistic Regression seems less overfit than Random Forrest. Therefore, Logisitc Regression model is picked as the best model\n",
    "- Logistic Regression model has accuracy score of about 79% on test data. It performed better than the basline accuracy by 9% "
   ]
  },
  {
   "cell_type": "markdown",
   "id": "c70c653d",
   "metadata": {},
   "source": [
    "## Conclusions\n",
    "- Customer churn is about 27% on train data.\n",
    "- Gender and Phone service are not driving customer churn.\n",
    "- online security, online backup, device protection, tech support, internet service type, tenure, monthly charges, and total charges are main drivers of customer churn.\n",
    "- Customers with high monthly charges churn in higher ratio.\n",
    "- Contract type is one of main driver of customer churn. Customers with contract type of month-to-month churn in higher ratio than customers with other contract type\n",
    "- Customers with add on : online security, online backup, device protection, and tech support churn less than customers who do do not have those add on."
   ]
  },
  {
   "cell_type": "markdown",
   "id": "e5b7cda7",
   "metadata": {},
   "source": [
    "#### Recommendations: \n",
    "- maintian constant monthly charges or lower monthly charges to retain customer who churn when monthly charges increases.\n",
    "- run programs or offers that increase customer to sign one year or two year contract. Customers with contranct of monht-to-month churn more than customers with contract of one year or two year.\n",
    "- Customer with additional package like online security, online backup, device protection, and tech support tends to less churn so run programs that increase customer to add those packages.\n",
    "- increase customers to have automacit payment and discourage electronic check because customer with electronic check tends to churn higher than customers with other payment type."
   ]
  },
  {
   "cell_type": "markdown",
   "id": "65c3b7c6",
   "metadata": {},
   "source": [
    "#### Next Steps:\n"
   ]
  },
  {
   "cell_type": "markdown",
   "id": "91973ad7",
   "metadata": {},
   "source": [
    "- If I have more time, I will combine more than two attributes to see their effects on  churn."
   ]
  },
  {
   "cell_type": "code",
   "execution_count": null,
   "id": "1c4e1a74",
   "metadata": {},
   "outputs": [],
   "source": []
  }
 ],
 "metadata": {
  "kernelspec": {
   "display_name": "Python 3 (ipykernel)",
   "language": "python",
   "name": "python3"
  },
  "language_info": {
   "codemirror_mode": {
    "name": "ipython",
    "version": 3
   },
   "file_extension": ".py",
   "mimetype": "text/x-python",
   "name": "python",
   "nbconvert_exporter": "python",
   "pygments_lexer": "ipython3",
   "version": "3.9.13"
  }
 },
 "nbformat": 4,
 "nbformat_minor": 5
}
